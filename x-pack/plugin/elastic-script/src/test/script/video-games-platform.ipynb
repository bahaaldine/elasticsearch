{
 "cells": [
  {
   "cell_type": "markdown",
   "metadata": {},
   "source": [
    "# Video Game purchase generator"
   ]
  },
  {
   "cell_type": "code",
   "execution_count": null,
   "metadata": {},
   "outputs": [
    {
     "name": "stdout",
     "output_type": "stream",
     "text": [
      "Requirement already satisfied: pandas in /Users/baha/miniconda3/lib/python3.11/site-packages (2.2.2)\n",
      "Requirement already satisfied: numpy>=1.23.2 in /Users/baha/miniconda3/lib/python3.11/site-packages (from pandas) (2.0.1)\n",
      "Requirement already satisfied: python-dateutil>=2.8.2 in /Users/baha/miniconda3/lib/python3.11/site-packages (from pandas) (2.9.0.post0)\n",
      "Requirement already satisfied: pytz>=2020.1 in /Users/baha/miniconda3/lib/python3.11/site-packages (from pandas) (2024.1)\n",
      "Requirement already satisfied: tzdata>=2022.7 in /Users/baha/miniconda3/lib/python3.11/site-packages (from pandas) (2024.1)\n",
      "Requirement already satisfied: six>=1.5 in /Users/baha/miniconda3/lib/python3.11/site-packages (from python-dateutil>=2.8.2->pandas) (1.16.0)\n",
      "Requirement already satisfied: faker in /Users/baha/miniconda3/lib/python3.11/site-packages (37.1.0)\n",
      "Requirement already satisfied: tzdata in /Users/baha/miniconda3/lib/python3.11/site-packages (from faker) (2024.1)\n",
      "Requirement already satisfied: elasticsearch in /Users/baha/miniconda3/lib/python3.11/site-packages (8.14.0)\n",
      "Requirement already satisfied: elastic-transport<9,>=8.13 in /Users/baha/miniconda3/lib/python3.11/site-packages (from elasticsearch) (8.13.1)\n",
      "Requirement already satisfied: urllib3<3,>=1.26.2 in /Users/baha/miniconda3/lib/python3.11/site-packages (from elastic-transport<9,>=8.13->elasticsearch) (1.26.16)\n",
      "Requirement already satisfied: certifi in /Users/baha/miniconda3/lib/python3.11/site-packages (from elastic-transport<9,>=8.13->elasticsearch) (2023.5.7)\n"
     ]
    }
   ],
   "source": [
    "!pip install pandas\n",
    "!pip install faker\n",
    "!pip install elasticsearch"
   ]
  },
  {
   "cell_type": "code",
   "execution_count": 4,
   "metadata": {},
   "outputs": [
    {
     "name": "stdout",
     "output_type": "stream",
     "text": [
      "✅ Done indexing all documents.\n"
     ]
    }
   ],
   "source": [
    "from elasticsearch import Elasticsearch, helpers\n",
    "import random\n",
    "import uuid\n",
    "from datetime import datetime\n",
    "import faker\n",
    "\n",
    "fake = faker.Faker()\n",
    "es = Elasticsearch(\"http://localhost:9200\")\n",
    "\n",
    "def generate_bulk_actions(index, docs):\n",
    "    for doc in docs:\n",
    "        yield {\n",
    "            \"_index\": index,\n",
    "            \"_id\": doc.get(\"id\", str(uuid.uuid4())),\n",
    "            \"_source\": doc\n",
    "        }\n",
    "\n",
    "# Create games\n",
    "games = []\n",
    "genres = [\"RPG\", \"Shooter\", \"Puzzle\", \"Platformer\", \"Strategy\"]\n",
    "for i in range(30):\n",
    "    games.append({\n",
    "        \"id\": f\"game_{i}\",\n",
    "        \"title\": fake.catch_phrase(),\n",
    "        \"release_date\": fake.date_between(start_date=\"-5y\", end_date=\"today\").isoformat(),\n",
    "        \"price\": round(random.uniform(9.99, 69.99), 2),\n",
    "        \"genre\": random.choice(genres)\n",
    "    })\n",
    "\n",
    "# Create users\n",
    "users = []\n",
    "regions = [\"NA\", \"EU\", \"ASIA\", \"LATAM\"]\n",
    "for i in range(100):\n",
    "    users.append({\n",
    "        \"id\": f\"user_{i}\",\n",
    "        \"username\": fake.user_name(),\n",
    "        \"signup_date\": fake.date_between(start_date=\"-3y\", end_date=\"today\").isoformat(),\n",
    "        \"region\": random.choice(regions),\n",
    "        \"age\": random.randint(13, 55)\n",
    "    })\n",
    "\n",
    "# Create purchases\n",
    "purchases = []\n",
    "for i in range(1000):\n",
    "    user = random.choice(users)\n",
    "    game = random.choice(games)\n",
    "    purchases.append({\n",
    "        \"id\": str(uuid.uuid4()),\n",
    "        \"user_id\": user[\"id\"],\n",
    "        \"game_id\": game[\"id\"],\n",
    "        \"price_paid\": round(game[\"price\"] * random.uniform(0.5, 1.0), 2),\n",
    "        \"purchase_date\": fake.date_between(\n",
    "            start_date=datetime.fromisoformat(user[\"signup_date\"]).date(),\n",
    "            end_date=datetime.today().date()\n",
    "        ).isoformat()\n",
    "    })\n",
    "\n",
    "# Create reviews\n",
    "reviews = []\n",
    "for i in range(500):\n",
    "    user = random.choice(users)\n",
    "    game = random.choice(games)\n",
    "    reviews.append({\n",
    "        \"id\": str(uuid.uuid4()),\n",
    "        \"user_id\": user[\"id\"],\n",
    "        \"game_id\": game[\"id\"],\n",
    "        \"rating\": random.randint(1, 5),\n",
    "        \"review\": fake.sentence(nb_words=12),\n",
    "        \"review_date\": fake.date_between(\n",
    "            start_date=datetime.fromisoformat(user[\"signup_date\"]).date(),\n",
    "            end_date=datetime.today().date()\n",
    "        ).isoformat()\n",
    "    })\n",
    "\n",
    "# Bulk index everything\n",
    "actions = []\n",
    "actions.extend(generate_bulk_actions(\"games\", games))\n",
    "actions.extend(generate_bulk_actions(\"users\", users))\n",
    "actions.extend(generate_bulk_actions(\"purchases\", purchases))\n",
    "actions.extend(generate_bulk_actions(\"reviews\", reviews))\n",
    "\n",
    "helpers.bulk(es, actions)\n",
    "print(\"✅ Done indexing all documents.\")"
   ]
  }
 ],
 "metadata": {
  "kernelspec": {
   "display_name": "base",
   "language": "python",
   "name": "python3"
  },
  "language_info": {
   "codemirror_mode": {
    "name": "ipython",
    "version": 3
   },
   "file_extension": ".py",
   "mimetype": "text/x-python",
   "name": "python",
   "nbconvert_exporter": "python",
   "pygments_lexer": "ipython3",
   "version": "3.11.4"
  }
 },
 "nbformat": 4,
 "nbformat_minor": 2
}
